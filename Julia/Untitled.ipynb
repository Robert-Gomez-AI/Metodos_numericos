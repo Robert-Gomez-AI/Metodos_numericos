{
 "cells": [
  {
   "cell_type": "markdown",
   "id": "5c4c4859",
   "metadata": {},
   "source": [
    "# Metodos númericos en Julia"
   ]
  },
  {
   "cell_type": "code",
   "execution_count": null,
   "id": "b122c1e4",
   "metadata": {},
   "outputs": [],
   "source": [
    "println(\"Hola\")"
   ]
  },
  {
   "cell_type": "code",
   "execution_count": null,
   "id": "977482d6",
   "metadata": {},
   "outputs": [],
   "source": []
  }
 ],
 "metadata": {
  "kernelspec": {
   "display_name": "Julia 1.4.1",
   "language": "julia",
   "name": "julia-1.4"
  },
  "language_info": {
   "file_extension": ".jl",
   "mimetype": "application/julia",
   "name": "julia",
   "version": "1.4.1"
  }
 },
 "nbformat": 4,
 "nbformat_minor": 5
}
